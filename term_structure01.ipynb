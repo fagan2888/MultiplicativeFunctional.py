{
 "cells": [
  {
   "cell_type": "markdown",
   "metadata": {},
   "source": [
    "# Term structure of interest rates"
   ]
  },
  {
   "cell_type": "code",
   "execution_count": 1,
   "metadata": {
    "collapsed": true
   },
   "outputs": [],
   "source": [
    "%matplotlib inline"
   ]
  },
  {
   "cell_type": "code",
   "execution_count": 2,
   "metadata": {
    "collapsed": true
   },
   "outputs": [],
   "source": [
    "import numpy as np\n",
    "import matplotlib.pyplot as plt\n",
    "from quantecon.markov import tauchen\n",
    "from qe_applications_asset_pricing import AssetPrices\n",
    "from mult_functional import _solve_principal_eig"
   ]
  },
  {
   "cell_type": "code",
   "execution_count": 3,
   "metadata": {
    "collapsed": true
   },
   "outputs": [],
   "source": [
    "def term_structure(ap, J):\n",
    "    n = ap.n\n",
    "    P_hat = ap.beta * ap.P_check\n",
    "    \n",
    "    # Sequence of price vectors\n",
    "    p = np.empty((J, n))\n",
    "    p[0] = P_hat.dot(np.ones(n))\n",
    "    for j in range(J-1):\n",
    "        p[j+1] = P_hat.dot(p[j])\n",
    "\n",
    "    # Term structure\n",
    "    R = -np.log(p)\n",
    "    R /= np.arange(1, J+1)[:, np.newaxis]\n",
    "    \n",
    "    return p, R"
   ]
  },
  {
   "cell_type": "markdown",
   "metadata": {},
   "source": [
    "## Parameter values from [Exercise 1](http://quant-econ.net/py/markov_asset.html#exercise-1) in \"Markov Asset Pricing\":"
   ]
  },
  {
   "cell_type": "code",
   "execution_count": 4,
   "metadata": {
    "collapsed": true
   },
   "outputs": [],
   "source": [
    "n = 5\n",
    "P = 0.0125 * np.ones((n, n))\n",
    "P += np.diag(0.95 - 0.0125 * np.ones(5))\n",
    "s = np.array([1.05, 1.025, 1.0, 0.975, 0.95])  # state values\n",
    "gamma = 2.0\n",
    "beta = 0.94"
   ]
  },
  {
   "cell_type": "code",
   "execution_count": 5,
   "metadata": {
    "collapsed": true
   },
   "outputs": [],
   "source": [
    "ap = AssetPrices(beta, P, s, gamma)"
   ]
  },
  {
   "cell_type": "code",
   "execution_count": 6,
   "metadata": {
    "collapsed": true
   },
   "outputs": [],
   "source": [
    "J = 200\n",
    "p, R = term_structure(ap, J)"
   ]
  },
  {
   "cell_type": "markdown",
   "metadata": {},
   "source": [
    "Determine the \"high\", \"low\", and \"middle\" states:"
   ]
  },
  {
   "cell_type": "code",
   "execution_count": 7,
   "metadata": {
    "collapsed": true
   },
   "outputs": [],
   "source": [
    "eig_val, eig_vec = _solve_principal_eig(ap.beta * ap.P_check)\n",
    "lo = np.argsort(eig_vec)[0]\n",
    "hi = np.argsort(eig_vec)[-1]\n",
    "mid = np.argsort(eig_vec)[ap.n//2]"
   ]
  },
  {
   "cell_type": "code",
   "execution_count": 8,
   "metadata": {
    "collapsed": false
   },
   "outputs": [
    {
     "data": {
      "image/png": "[encoded data removed]",
      "text/plain": [
       "<matplotlib.figure.Figure at 0x1158032b0>"
      ]
     },
     "metadata": {},
     "output_type": "display_data"
    }
   ],
   "source": [
    "fig, ax = plt.subplots(figsize=(8,5))\n",
    "for i in [lo, mid, hi]:\n",
    "    ax.plot(np.arange(1, J+1), R[:, i])\n",
    "ax.set_xlim((1, J))\n",
    "plt.show()"
   ]
  },
  {
   "cell_type": "markdown",
   "metadata": {},
   "source": [
    "## Parameter values from `MC_mult_functional05.ipynb`:"
   ]
  },
  {
   "cell_type": "code",
   "execution_count": 9,
   "metadata": {
    "collapsed": true
   },
   "outputs": [],
   "source": [
    "mu_C = .005  # mean of quarterly per capita consumption growth\n",
    "sigma_C = .005  # standard deviation of quarterly per capita consumption growth\n",
    "rho = .25  # persistence of per capita quarterly consumption growth\n",
    "\n",
    "# standard deviation of the underlying noise distribution\n",
    "sigma = sigma_C * np.sqrt(1 - rho**2)\n",
    "\n",
    "m = 2  # number of standard deviations you would like the gridded vector y to cover\n",
    "n = 5  # number of points in the discretization\n",
    "\n",
    "y, P = tauchen(rho, sigma, m, n)\n",
    "# mc = MarkovChain(P)\n",
    "\n",
    "y += mu_C  # consumption growth rate vector\n",
    "\n",
    "# Discount rate\n",
    "delta = .01\n",
    "\n",
    "# Coefficient of relative risk aversion\n",
    "gamma = 20"
   ]
  },
  {
   "cell_type": "code",
   "execution_count": 10,
   "metadata": {
    "collapsed": true
   },
   "outputs": [],
   "source": [
    "# Discount factor\n",
    "beta = np.exp(-delta)\n",
    "\n",
    "# Consumption growth factor vector\n",
    "s = np.exp(y)"
   ]
  },
  {
   "cell_type": "code",
   "execution_count": 11,
   "metadata": {
    "collapsed": false
   },
   "outputs": [
    {
     "data": {
      "text/plain": [
       "0.99004983374916811"
      ]
     },
     "execution_count": 11,
     "metadata": {},
     "output_type": "execute_result"
    }
   ],
   "source": [
    "beta"
   ]
  },
  {
   "cell_type": "code",
   "execution_count": 12,
   "metadata": {
    "collapsed": false
   },
   "outputs": [
    {
     "data": {
      "text/plain": [
       "array([ 0.99501248,  1.        ,  1.00501252,  1.01005017,  1.01511306])"
      ]
     },
     "execution_count": 12,
     "metadata": {},
     "output_type": "execute_result"
    }
   ],
   "source": [
    "s"
   ]
  },
  {
   "cell_type": "code",
   "execution_count": 13,
   "metadata": {
    "collapsed": true
   },
   "outputs": [],
   "source": [
    "ap = AssetPrices(beta, P, s, gamma)"
   ]
  },
  {
   "cell_type": "code",
   "execution_count": 14,
   "metadata": {
    "collapsed": true
   },
   "outputs": [],
   "source": [
    "J = 20\n",
    "p, R = term_structure(ap, J)"
   ]
  },
  {
   "cell_type": "code",
   "execution_count": 15,
   "metadata": {
    "collapsed": false
   },
   "outputs": [
    {
     "data": {
      "text/plain": [
       "array([[ 0.05732179,  0.08103259,  0.10515373,  0.12937031,  0.15337385],\n",
       "       [ 0.07424111,  0.08891904,  0.1038699 ,  0.11889703,  0.13380842],\n",
       "       [ 0.08254966,  0.09278489,  0.10321402,  0.11369969,  0.12410787],\n",
       "       [ 0.08718206,  0.09493934,  0.10284426,  0.11079268,  0.11868298],\n",
       "       [ 0.09005315,  0.09627448,  0.10261435,  0.10898924,  0.11531763],\n",
       "       [ 0.09198551,  0.09717306,  0.10245947,  0.1077751 ,  0.11305199],\n",
       "       [ 0.09336954,  0.09781664,  0.10234851,  0.10690543,  0.11142914],\n",
       "       [ 0.09440835,  0.09829969,  0.10226521,  0.10625266,  0.11021105],\n",
       "       [ 0.09521648,  0.09867548,  0.10220042,  0.10574484,  0.10926344],\n",
       "       [ 0.09586302,  0.09897613,  0.10214858,  0.10533857,  0.10850531],\n",
       "       [ 0.09639201,  0.09922212,  0.10210616,  0.10500615,  0.10788501],\n",
       "       [ 0.09683284,  0.09942711,  0.10207081,  0.10472914,  0.1073681 ],\n",
       "       [ 0.09720586,  0.09960056,  0.10204091,  0.10449474,  0.1069307 ],\n",
       "       [ 0.09752558,  0.09974923,  0.10201527,  0.10429383,  0.1065558 ],\n",
       "       [ 0.09780268,  0.09987808,  0.10199305,  0.10411971,  0.10623088],\n",
       "       [ 0.09804513,  0.09999083,  0.10197361,  0.10396735,  0.10594657],\n",
       "       [ 0.09825907,  0.10009031,  0.10195646,  0.10383292,  0.10569571],\n",
       "       [ 0.09844923,  0.10017874,  0.10194121,  0.10371343,  0.10547273],\n",
       "       [ 0.09861937,  0.10025786,  0.10192757,  0.10360651,  0.10527322],\n",
       "       [ 0.09877251,  0.10032906,  0.10191529,  0.10351028,  0.10509366]])"
      ]
     },
     "execution_count": 15,
     "metadata": {},
     "output_type": "execute_result"
    }
   ],
   "source": [
    "R"
   ]
  },
  {
   "cell_type": "code",
   "execution_count": 16,
   "metadata": {
    "collapsed": true
   },
   "outputs": [],
   "source": [
    "eig_val, eig_vec = _solve_principal_eig(ap.beta * ap.P_check)\n",
    "lo = np.argsort(eig_vec)[0]\n",
    "hi = np.argsort(eig_vec)[-1]\n",
    "mid = np.argsort(eig_vec)[ap.n//2]"
   ]
  },
  {
   "cell_type": "code",
   "execution_count": 17,
   "metadata": {
    "collapsed": false
   },
   "outputs": [
    {
     "data": {
      "image/png": "[encoded data removed]",
      "text/plain": [
       "<matplotlib.figure.Figure at 0x115876710>"
      ]
     },
     "metadata": {},
     "output_type": "display_data"
    }
   ],
   "source": [
    "fig, ax = plt.subplots(figsize=(8,5))\n",
    "for i in [lo, mid, hi]:\n",
    "    ax.plot(np.arange(1, J+1), R[:, i])\n",
    "ax.set_xlim((1, J))\n",
    "plt.show()"
   ]
  },
  {
   "cell_type": "code",
   "execution_count": null,
   "metadata": {
    "collapsed": true
   },
   "outputs": [],
   "source": []
  }
 ],
 "metadata": {
  "kernelspec": {
   "display_name": "Python 3",
   "language": "python",
   "name": "python3"
  },
  "language_info": {
   "codemirror_mode": {
    "name": "ipython",
    "version": 3
   },
   "file_extension": ".py",
   "mimetype": "text/x-python",
   "name": "python",
   "nbconvert_exporter": "python",
   "pygments_lexer": "ipython3",
   "version": "3.5.1"
  }
 },
 "nbformat": 4,
 "nbformat_minor": 0
}
