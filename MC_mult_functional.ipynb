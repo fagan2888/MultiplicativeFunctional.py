{
 "cells": [
  {
   "cell_type": "markdown",
   "metadata": {},
   "source": [
    "# Some Multiplicative Functionals"
   ]
  },
  {
   "cell_type": "markdown",
   "metadata": {},
   "source": [
    "**Daisuke Oyama, Thomas J. Sargent and John Stachurski**"
   ]
  },
  {
   "cell_type": "code",
   "execution_count": 3,
   "metadata": {
    "collapsed": true
   },
   "outputs": [],
   "source": [
    "%matplotlib inline"
   ]
  },
  {
   "cell_type": "code",
   "execution_count": 4,
   "metadata": {
    "collapsed": false
   },
   "outputs": [],
   "source": [
    "import itertools\n",
    "import numpy as np\n",
    "import matplotlib.pyplot as plt\n",
    "from quantecon.markov import tauchen, MarkovChain\n",
    "from mult_functional import MultFunctionalFiniteMarkov\n",
    "from asset_pricing_mult_functional import (\n",
    "    AssetPricingMultFiniteMarkov, LucasTreeFiniteMarkov\n",
    ")"
   ]
  },
  {
   "cell_type": "markdown",
   "metadata": {},
   "source": [
    "## Plan of the notebook\n",
    "\n",
    "In other quant-econ lectures\n",
    "(\"[Markov Asset Pricing](http://quant-econ.net/py/markov_asset.html)\" and\n",
    "\"[The Lucas Asset Pricing Model](http://quant-econ.net/py/lucas_model.html)\")\n",
    "and notebooks, we have studied the celebrated **Lucas asset pricing model** (Lucas (1978)) that is cast in a setting in which the key objects of the theory,\n",
    "namely, a *stochastic discount factor process*, an *aggregate consumption process*, and an\n",
    "*asset payout process*, are all taken to be stationary.\n",
    "\n",
    "In this notebook, we shall learn about some tools that allow us to extend asset pricing models to settings in which neither the *stochastic discount factor process* nor the asset's *payout process* is a stationary process.  The key tool is the class of **multiplicative functionals** from the stochastic process literature that Hansen and Scheinkman (2009) have adapted so that they can be applied to asset pricing and other interesting macroeconomic problems.  \n",
    "\n",
    "In this notebook, we confine ourselves to studying a special type of multiplicative functional, namely, **multiplicative functionals driven by finite state Markov chains**.  We'll learn about some  of their properties and applications.  Among other things, we'll\n",
    "obtain Hansen and Scheinkman's more general multiplicative decomposition of our particular type of multiplicative functional into the following three primitive types of multiplicative functions:\n",
    "\n",
    " * A nonstochastic process displaying deterministic exponential growth\n",
    "\n",
    " * A **multiplicative martingale** or **likelihood ratio process**\n",
    " \n",
    " * A stationary stochastic process that is the exponential of another stationary process. \n",
    " \n",
    "The first two of these primitive types are nonstationary while the third is stationary.  The first is nonstochastic, while the second and third are stochastic.\n",
    "\n",
    "After taking a look at the behavior of these three primitive components, we'll apply this structure to model\n",
    "\n",
    " * A stochastically, exponentially declining **stochastic discount factor process**\n",
    " \n",
    " * A stochastically,  exponentially growing or declining **asset payout** or **dividend** process\n",
    " \n",
    " * The **prices** of claims to exponentially growing or declining payout processes.\n",
    " \n",
    " * A theory of the **term structure of interest rates**.\n",
    "\n",
    "\n",
    "We begin by describing a basic setting that we'll use in several applications later in this notebook."
   ]
  },
  {
   "cell_type": "markdown",
   "metadata": {},
   "source": [
    "\n",
    "### Multiplicative functional driven by a finite state Markov chain\n",
    "\n",
    "Let $S$ be the integers $\\{1, \\ldots, n\\}$.  Because we study stochastic\n",
    "processes taking values in $S$, elements of $S$ will be denoted by symbols\n",
    "such as $x, y$ instead of $i, j$.  Also, to avoid double subscripts, for a\n",
    "vector $h \\in {\\mathbb R}^n$ we will write $h(x)$ instead of $h_x$ for the value at\n",
    "index $x$. In fact $h$ can also be understood as a function $h \\colon S \\to {\\mathbb R}$. However, in expressions involving matrix algebra we always regard it as a column vector.  Similarly, $S$ can be any finite set but in what follows we identify it with $\\{1, \\ldots, n\\}$.)  \n",
    "\n",
    "Matrices are represented by symbols such as ${\\mathbf P}$ and ${\\mathbf Q}$. Analogous to \n",
    "the vector case, the $(x,y)$-th element of matrix ${\\mathbf Q}$ is written\n",
    "${\\mathbf Q}(x, y)$\n",
    "rather than ${\\mathbf Q}_{x y}$.  A nonnegative $n \\times n$ matrix ${\\mathbf\n",
    "Q}$ is\n",
    "called **irreducible** if, for any $(x, y) \\in S \\times S$, there exists an\n",
    "integer $m$ such that ${\\mathbf Q}^m(x, y) > 0$.  It is called **ergodic** if there\n",
    "exists an integer $m$ such that ${\\mathbf Q}^m(x, y) > 0$ for all $(x, y) \\in S \\times\n",
    "S$.\n",
    "\n",
    "Let ${\\mathbf P}$ be a stochastic $n \\times n$ matrix and let $\\{X_t\\}$ be\n",
    "a Markov process with transition probabilities ${\\mathbf P}$.  That is, $\\{X_t\\}$ is a Markov process on $S$ satisfying\n",
    " \n",
    "$$\n",
    "    \\mathbb P [ X_{t+1}  = y \\mid {\\mathcal F}_t] \n",
    "    = {\\mathbf P}(X_t, y)\n",
    "$$\n",
    " \n",
    "for all $y \\in S$.  Here $\\{{\\mathcal F}_t\\}$ is the natural filtration generated by\n",
    "$\\{X_t\\}$ and the equality holds almost surely on an underlying probability\n",
    "space $(\\Omega, {\\mathcal F}, \\mathbb P)$.  \n",
    "\n",
    "\n",
    "A **martingale** with respect to $\\{{\\mathcal F}_t\\}$ is a real-valued stochastic\n",
    "process on $(\\Omega, {\\mathcal F}, \\mathbb P)$ satisfying $E|M_t| < \\infty$ and $E[M_{t+1} \\mid\n",
    "{\\mathcal F}_t] = M_t$ for all $t$.\n",
    "A **multiplicative functional** generated by $\\{X_t\\}$ is a real-valued stochastic\n",
    "process $\\{M_t\\}$ satisfying $M_0 > 0$ and\n",
    " \n",
    "$$\n",
    "    \\frac{M_{t+1}}{M_t} = {\\mathbf M}(X_t, X_{t+1})\n",
    "$$\n",
    " \n",
    "for some strictly positive $n \\times n$ matrix ${\\mathbf M}$.\n",
    "If, in addition, \n",
    " \n",
    "$$\n",
    "    E[ {\\mathbf M}(X_t, X_{t+1}) \\mid {\\mathcal F}_t] = 1,\n",
    "$$\n",
    " \n",
    "then $\\{M_t\\}$ is clearly a martingale.  Given its construction as a product of factors ${\\mathbf M}(X_t, X_{t+1})$, it is sometimes called a\n",
    "**multiplicative martingale**.\n",
    "\n",
    "If we write\n",
    " \n",
    "$$\n",
    "    \\ln M_{t+1} - \\ln M_t = {\\mathbf G}(X_t, X_{t+1})\n",
    "$$\n",
    "\n",
    "where\n",
    "\n",
    "$$\n",
    "    {\\mathbf G}(X_t, X_{t+1}) := \\ln {\\mathbf M}(X_t, X_{t+1}),\n",
    "$$\n",
    " \n",
    "then ${\\mathbf G}(x, y)$ can be interpreted as the growth rate of $\\{M_t\\}$ at state pair $(x, y)$.\n",
    "\n",
    "A **likelihood ratio process** is a multiplicative martingale $\\{M_t\\}$ with initial condition $M_0 = 1$.  From this initial condition and the martingale property it is easy to show that\n",
    " \n",
    "$$\n",
    "    E[M_t] = E[M_t \\mid {\\mathcal F}_0] = 1\n",
    "$$\n",
    " \n",
    "for all $t$.\n"
   ]
  },
  {
   "cell_type": "markdown",
   "metadata": {},
   "source": [
    "\n",
    "### Martingale Decomposition\n",
    "\n",
    "Let ${\\mathbf P}$ be a stochastic matrix, let ${\\mathbf M}$ be an everywhere positive $n\n",
    "\\times n$ matrix and let $\\{M_t\\}$ be the multiplicative functional defined\n",
    "above.  Assume that ${\\mathbf P}$ is irreducible. Let $\\tilde {\\mathbf P}$ be defined by\n",
    " \n",
    "$$\n",
    "    \\tilde {\\mathbf P} (x, y) = {\\mathbf M}(x, y) {\\mathbf P}(x, y)\n",
    "    \\qquad ((x, y) \\in S \\times S).\n",
    "$$\n",
    " \n",
    "Using the assumptions that ${\\mathbf P}$ is irreducible and ${\\mathbf M}$ is positive, it can be\n",
    "shown that $\\tilde {\\mathbf P}$ is also irreducible.\n",
    "\n",
    "By the Perron-Frobenius theorem, there exists for $\\tilde {\\mathbf P}$ a unique eigenpair $(\\lambda,\n",
    "e) \\in {\\mathbb R} \\times {\\mathbb R}^n$ such that $\\lambda$ and all elements of $e$ are strictly positive. Letting $\\eta := \\log \\lambda$, we have\n",
    " \n",
    "$$\n",
    "    \\tilde {\\mathbf P} e = \\exp(\\eta) e.\n",
    "$$\n",
    " \n",
    "Now define $n \\times n$ matrix $\\tilde {\\mathbf M}$ by\n",
    " \n",
    "$$\n",
    "    \\tilde {\\mathbf M}(x, y) := \\exp(- \\eta) {\\mathbf M}(x, y) \\frac{e(y)}{e(x)}.\n",
    "$$\n",
    " \n",
    "Note that $\\tilde {\\mathbf M}$ is also strictly positive.  By construction, for each $x \\in\n",
    "S$ we have\n",
    " \n",
    "\\begin{align*}\n",
    "    \\sum_{y \\in S} \\tilde {\\mathbf M}(x, y) {\\mathbf P}(x, y)\n",
    "    & = \\sum_{y \\in S} \\exp(- \\eta) {\\mathbf M}(x, y) \\frac{e(y)}{e(x)} {\\mathbf P}(x, y)\n",
    "    \\\\\n",
    "    & = \\exp(- \\eta) \\frac{1}{e(x)} \\sum_{y \\in S} \\tilde {\\mathbf P}(x, y) e(y) \n",
    "    \\\\\n",
    "    & = \\exp(- \\eta) \\frac{1}{e(x)} \\tilde {\\mathbf P} e(x)  = 1.\n",
    "\\end{align*}\n",
    " \n",
    "Now let $\\{\\tilde M_t\\}$ be the multiplicative functional defined by\n",
    " \n",
    "$$\n",
    "    \\frac{\\tilde M_{t+1}}{\\tilde M_t} = \\tilde {\\mathbf M}(X_t, X_{t+1})\n",
    "    \\quad \\text{and} \\quad\n",
    "    \\tilde M_0 = 1.\n",
    "$$\n",
    " \n",
    "In view of our proceeding calculations, we have\n",
    " \n",
    "$$\n",
    "    E \n",
    "    \\left[\n",
    "        \\frac{\\tilde M_{t+1}}{\\tilde M_t} \n",
    "        \\mid {\\mathcal F}_t\n",
    "    \\right]\n",
    "    = E[ \\tilde {\\mathbf M}(X_t, X_{t+1}) \\mid {\\mathcal F}_t]\n",
    "    = \\sum_{y \\in S} \\tilde {\\mathbf M}(X_t, y) {\\mathbf P}(X_t, y) = 1.\n",
    "$$\n",
    " \n",
    "Hence $\\{\\tilde M_t\\}$ is a likelihood ratio process.\n",
    "\n",
    "By reversing the construction of $\\tilde {\\mathbf M}$ given above, we can write \n",
    " \n",
    "$$\n",
    "    {\\mathbf M}(x, y) = \\exp( \\eta) \\tilde {\\mathbf M}(x, y) \\frac{e(x)}{e(y)}\n",
    "$$\n",
    " \n",
    "and hence\n",
    " \n",
    "$$\n",
    "    \\frac{M_{t+1}}{M_t}   \n",
    "    = \n",
    "    \\exp( \\eta)\n",
    "    \\frac{e(X_t)}{e(X_{t+1})}\n",
    "    \\frac{\\tilde M_{t+1}}{\\tilde M_t} .\n",
    "$$\n",
    "\n",
    "In this equation we have decomposed the original multiplicative functional\n",
    "into the product of\n",
    " \n",
    "1. a nonstochastic component $\\exp( \\eta)$,\n",
    "1. a stationary sequence $e(X_t)/e(X_{t+1})$, and\n",
    "1. the factors $\\tilde M_{t+1}/\\tilde M_t$ of a likelihood ratio process.\n",
    "\n",
    "\n"
   ]
  },
  {
   "cell_type": "markdown",
   "metadata": {},
   "source": [
    "### Simulation strategy\n",
    "\n",
    " Let $x_t$ be the index of the Markov state at time $t$ and let  $\\{ x_0, x_1, \\ldots, x_T\\}$ be a simulation of the (asymptotically stationary) Markov  process for $\\{X_t\\}$.  \n",
    " \n",
    "We can use the formulas above easily to generate simulations of the multiplicative functional $M_t$ and of the positive multiplicative martingale  $\\tilde M_t$."
   ]
  },
  {
   "cell_type": "markdown",
   "metadata": {},
   "source": [
    "\n",
    "### Forecasting formulas\n",
    "\n",
    "Let $\\{M_t\\}$ be the multiplicative functional described above with transition\n",
    "matrix ${\\mathbf P}$ and matrix ${\\mathbf M}$ defining the multiplicative increments.   We can\n",
    "use $\\tilde {\\mathbf P}$ to forecast future observations of $\\{M_t\\}$.  In particular,\n",
    "we have the relation\n",
    "\n",
    "$$\n",
    "    E[ M_{t+j} \\mid X_t = x]\n",
    "    = M_t \\sum_{y \\in S} \\tilde {\\mathbf P}^j(x, y) \n",
    "    \\qquad (x \\in S)\n",
    "$$\n",
    "\n",
    "This follows from the definition of $\\{M_t\\}$, which allows us to write\n",
    " \n",
    "$$\n",
    "    M_{t+j} = M_t {\\mathbf M}(X_t, X_{t+1}) \\cdots {\\mathbf M}(X_{t+j-1}, X_{t+j}).\n",
    "$$\n",
    "Taking expectations and conditioning on $X_t = x$ gives\n",
    " \n",
    "\\begin{align*}\n",
    "    E[ M_{t+j} \\mid X_t = x]\n",
    "    & = \\sum_{x_1} \\cdots \\sum_{x_j} \n",
    "        M_t {\\mathbf M}(x, x_1) \\cdots {\\mathbf M}(x_{j-1}, x_j)\n",
    "            {\\mathbf P}(x, x_1) \\cdots {\\mathbf P}(x_{j-1}, x_j)\n",
    "            \\\\\n",
    "    & = \\sum_{x_1} \\cdots \\sum_{x_j} \n",
    "            M_t \\tilde {\\mathbf P}(x, x_1) \\cdots \\tilde {\\mathbf P}(x_{j-1}, x_j)\n",
    "        \\\\\n",
    "    & = M_t \\sum_{y \\in S} \\tilde {\\mathbf P}^j(x, y) .\n",
    "\\end{align*}\n",
    "\n",
    "\n",
    "\n"
   ]
  },
  {
   "cell_type": "markdown",
   "metadata": {},
   "source": [
    "### Implementation\n",
    "\n",
    "The `MultFunctionalFiniteMarkov` class\n",
    "implements multiplicative functionals driven by finite state Markov chains.\n",
    "\n",
    "Here we briefly demonstrate how to use it."
   ]
  },
  {
   "cell_type": "code",
   "execution_count": 5,
   "metadata": {
    "collapsed": false
   },
   "outputs": [],
   "source": [
    "# Transition probability matrix\n",
    "P = [[0.4, 0.6],\n",
    "     [0.2, 0.8]]\n",
    "\n",
    "# Instance of MarkovChain from quantecon.markov\n",
    "mc = MarkovChain(P)"
   ]
  },
  {
   "cell_type": "markdown",
   "metadata": {},
   "source": [
    "Clearly, this Markov chain is irreducible:"
   ]
  },
  {
   "cell_type": "code",
   "execution_count": 6,
   "metadata": {
    "collapsed": false
   },
   "outputs": [
    {
     "data": {
      "text/plain": [
       "True"
      ]
     },
     "execution_count": 6,
     "metadata": {},
     "output_type": "execute_result"
    }
   ],
   "source": [
    "mc.is_irreducible"
   ]
  },
  {
   "cell_type": "code",
   "execution_count": 7,
   "metadata": {
    "collapsed": true
   },
   "outputs": [],
   "source": [
    "# Growth rate matrix\n",
    "G = [[-1, 0],\n",
    "     [0.5, 1]]"
   ]
  },
  {
   "cell_type": "markdown",
   "metadata": {},
   "source": [
    "Create a `MultFunctionalFiniteMarkov` instance:"
   ]
  },
  {
   "cell_type": "code",
   "execution_count": 8,
   "metadata": {
    "collapsed": false
   },
   "outputs": [],
   "source": [
    "mf = MultFunctionalFiniteMarkov(mc, G, M_inits=100)"
   ]
  },
  {
   "cell_type": "code",
   "execution_count": 9,
   "metadata": {
    "collapsed": false
   },
   "outputs": [
    {
     "data": {
      "text/plain": [
       "array([[ 0.36787944,  1.        ],\n",
       "       [ 1.64872127,  2.71828183]])"
      ]
     },
     "execution_count": 9,
     "metadata": {},
     "output_type": "execute_result"
    }
   ],
   "source": [
    "mf.M_matrix"
   ]
  },
  {
   "cell_type": "markdown",
   "metadata": {},
   "source": [
    "The dominant eigenvalue, denoted $\\exp(\\eta)$ above, of $\\tilde P$ is"
   ]
  },
  {
   "cell_type": "code",
   "execution_count": 10,
   "metadata": {
    "collapsed": false,
    "scrolled": false
   },
   "outputs": [
    {
     "data": {
      "text/plain": [
       "2.2679156922960702"
      ]
     },
     "execution_count": 10,
     "metadata": {},
     "output_type": "execute_result"
    }
   ],
   "source": [
    "mf.exp_eta"
   ]
  },
  {
   "cell_type": "markdown",
   "metadata": {},
   "source": [
    "The value $\\eta$ is"
   ]
  },
  {
   "cell_type": "code",
   "execution_count": 11,
   "metadata": {
    "collapsed": false
   },
   "outputs": [
    {
     "data": {
      "text/plain": [
       "0.8188612124656196"
      ]
     },
     "execution_count": 11,
     "metadata": {},
     "output_type": "execute_result"
    }
   ],
   "source": [
    "mf.eta"
   ]
  },
  {
   "cell_type": "markdown",
   "metadata": {},
   "source": [
    "The (normalized) dominant eigenvector $e$ of $\\tilde P$ is"
   ]
  },
  {
   "cell_type": "code",
   "execution_count": 12,
   "metadata": {
    "collapsed": false
   },
   "outputs": [
    {
     "data": {
      "text/plain": [
       "array([ 0.27223164,  0.96223175])"
      ]
     },
     "execution_count": 12,
     "metadata": {},
     "output_type": "execute_result"
    }
   ],
   "source": [
    "mf.e"
   ]
  },
  {
   "cell_type": "markdown",
   "metadata": {},
   "source": [
    "Let us simulate our `MultFunctionalFiniteMarkov`:"
   ]
  },
  {
   "cell_type": "code",
   "execution_count": 13,
   "metadata": {
    "collapsed": false
   },
   "outputs": [],
   "source": [
    "ts_length = 10\n",
    "res = mf.simulate(ts_length)"
   ]
  },
  {
   "cell_type": "markdown",
   "metadata": {},
   "source": [
    "The simulation results are contained in `res`."
   ]
  },
  {
   "cell_type": "markdown",
   "metadata": {},
   "source": [
    "Let's check that `M` and `M_tilde` satisfy the identity from their definition (up to numerical errors)."
   ]
  },
  {
   "cell_type": "code",
   "execution_count": 15,
   "metadata": {
    "collapsed": false
   },
   "outputs": [
    {
     "data": {
      "text/plain": [
       "array([  100.        ,    36.78794412,    36.78794412,   100.        ,\n",
       "         271.82818285,   448.16890703,   448.16890703,  1218.24939607,\n",
       "        3311.54519587,  9001.71313005])"
      ]
     },
     "execution_count": 15,
     "metadata": {},
     "output_type": "execute_result"
    }
   ],
   "source": [
    "exp_eta_geo_series = np.empty_like(res.M)\n",
    "exp_eta_geo_series[0] = 1\n",
    "exp_eta_geo_series[1:] = mf.exp_eta\n",
    "np.cumprod(exp_eta_geo_series, out=exp_eta_geo_series)\n",
    "\n",
    "M_2 = res.M[0] * res.M_tilde * mf.e[res.X[0]] * exp_eta_geo_series / mf.e[res.X]\n",
    "M_2"
   ]
  },
  {
   "cell_type": "code",
   "execution_count": 16,
   "metadata": {
    "collapsed": false,
    "scrolled": true
   },
   "outputs": [
    {
     "data": {
      "text/plain": [
       "array([  0.00000000e+00,   0.00000000e+00,   7.10542736e-15,\n",
       "         1.42108547e-14,   5.68434189e-14,   2.27373675e-13,\n",
       "         1.70530257e-13,   4.54747351e-13,   1.81898940e-12,\n",
       "         5.45696821e-12])"
      ]
     },
     "execution_count": 16,
     "metadata": {},
     "output_type": "execute_result"
    }
   ],
   "source": [
    "M_2 - res.M"
   ]
  },
  {
   "cell_type": "markdown",
   "metadata": {},
   "source": [
    "### Likelihood ratio processes\n",
    "\n",
    "A **likelihood ratio process** is a multiplicative martingale with mean $1$.  \n",
    "\n",
    "A multiplicative martingale process $\\{\\widetilde M_t \\}_{t=0}^\\infty$ that starts from $\\widetilde M_0 = 1$ is a likelihood ratio process.\n",
    "\n",
    "Evidently, a likelihood ratio process satisfies\n",
    "\n",
    "$$ E [\\widetilde M_t | {\\mathfrak F}_0] = 1 .$$\n",
    "\n",
    "Hansen and Sargent (2017) point out that likelihood ratio processes have the following **peculiar property**:\n",
    "\n",
    "  *  Although  $E{\\widetilde M}_{j} = 1$ for each $j$$\\{{\\widetilde M}_{j} : j=1,2,... \\}$ converges almost surely to zero.\n",
    "  \n",
    "The following graph, and also one at the end of this notebook, illustrate the peculiar property by reporting simulations of many sample paths of a $\\{\\widetilde M_t \\}_{t=0}^\\infty$ process. \n"
   ]
  },
  {
   "cell_type": "code",
   "execution_count": 17,
   "metadata": {
    "collapsed": true
   },
   "outputs": [],
   "source": [
    "ts_length = 120\n",
    "num_reps = 100\n",
    "res = mf.simulate(ts_length, num_reps=num_reps)"
   ]
  },
  {
   "cell_type": "code",
   "execution_count": 18,
   "metadata": {
    "collapsed": false,
    "scrolled": true
   },
   "outputs": [
    {
     "data": {
      "image/png": "[encoded data removed]",
      "text/plain": [
       "<matplotlib.figure.Figure at 0x7fb9abe6cbe0>"
      ]
     },
     "metadata": {},
     "output_type": "display_data"
    }
   ],
   "source": [
    "ylim = (0, 50)\n",
    "fig, ax = plt.subplots(figsize=(8,5))\n",
    "for i in range(num_reps):\n",
    "    ax.plot(res.M_tilde[i], color='k', alpha=0.5)\n",
    "    ax.set_xlim(0, ts_length)\n",
    "    ax.set_ylim(*ylim)\n",
    "ax.set_title(r'{0} sample paths of $\\widetilde M_t$'.format(num_reps))\n",
    "plt.show()"
   ]
  },
  {
   "cell_type": "markdown",
   "metadata": {},
   "source": [
    "We revisit the peculiar sample path property at the end of this notebook."
   ]
  },
  {
   "cell_type": "markdown",
   "metadata": {},
   "source": [
    "## Stochastic discount factor and exponentially changing asset payouts\n",
    "\n",
    "Define   a matrix ${\\sf S}$ whose $(x, y)$th element is ${\\sf S}(x,y) = \\exp(G_S(x,y))$, where $G_S(x,y)$ is a stochastic discount rate\n",
    "for moving from state $x$ at time $t$ to state $y$ at time $t+1$.\n",
    "\n",
    "A stochastic discount factor process $\\{S_t\\}_{t=0}^\\infty$ is governed by the **multiplicative functional**:\n",
    "\n",
    "$$\n",
    "{\\frac {S_{t+1}}{S_t}} = \\exp[ G_S(X_t, X_{t+1} ) ] = {\\sf S}(X_t, X_{t+1}).\n",
    "$$\n",
    "\n",
    "Define   a matrix ${\\sf D}$ whose $(x,y)$th element is ${\\sf D}(x,y) = \\exp(G_d(x,y))$.\n",
    "\n",
    "A non-negative payout or dividend  process $\\{d_t\\}_{t=0}^\\infty$ is governed by the **multiplicative functional**:\n",
    "\n",
    "$$\n",
    "{\\frac {d_{t+1}}{d_t}} = \\exp\\left[ G_d(X_t,X_{t+1}) \\right] = {\\sf D}(X_t, X_{t+1}).\n",
    "$$\n",
    "\n",
    "\n",
    "Let $p_t$ be the price at the beginning of period $t$ of a claim to the stochastically growing or shrinking stream of payouts\n",
    "$\\{d_{t+j}\\}_{j=0}^\\infty$.\n",
    "\n",
    "It satisfies\n",
    "\n",
    "$$\n",
    "p_t = E\\left[\\frac{S_{t+1}}{S_t} (d_t + p_{t+1}) \\Bigm| {\\mathfrak F}_t\\right] ,\n",
    "$$\n",
    "\n",
    "or\n",
    "\n",
    "$$\n",
    "\\frac{p_t}{d_t} =\n",
    "E\\left[\\frac{S_{t+1}}{S_t}\n",
    "       \\left(1 + \\frac{d_{t+1}}{d_t} \\frac{p_{t+1}}{d_{t+1}}\\right)\n",
    "       \\Bigm| {\\mathfrak F}_t\\right] ,\n",
    "$$\n",
    "\n",
    "where the time $t$ information set ${\\mathfrak F}_t$ includes $X_t, S_t, d_t$.\n",
    "\n",
    "Guessing that the price-dividend ratio $\\frac{p_t}{d_t}$ is a function of the Markov state $X_t$ only, and letting\n",
    "it equal $v(x)$ when $X_t = x$, write the preceding equation as\n",
    "\n",
    "$$ v(x) =   \\sum_{x \\in S} P(x,y) \\left[  {\\sf S}(x,y) \\mathbf{1}  +  {\\sf S}(x,y) {\\sf D}(x,y)  v(y)               \\right] $$\n",
    "\n",
    "or\n",
    "\n",
    "$$\n",
    "v = c + \\widetilde{P} v ,\n",
    "$$\n",
    "\n",
    "where $c = \\widehat{P} \\mathbf{1}$ is by construction a nonnegative vector and we have defined\n",
    "the nonnegative matrices $\\widetilde{P} \\in \\mathbb{R}^{n \\times n}$ and\n",
    "$\\widehat{P} \\in \\mathbb{R}^{n \\times n}$ by\n",
    "\n",
    "$$\n",
    "\\begin{aligned}\n",
    "\\widetilde{P}(x,y) &= P(x,y) {\\sf S}(x,y) {\\sf D}(x,y), \\\\\n",
    "\\widehat{P}(x,y) &= P(x,y) {\\sf S}(x,y).\n",
    "\\end{aligned}\n",
    "$$\n",
    "\n",
    "The equation $v = \\widetilde{P} v + c$  has a nonnegative solution\n",
    "for any nonnegative vector $c$ if and only if\n",
    "all the  eigenvalues of $\\widetilde{P}$ are smaller than $1$ in modulus.\n",
    "\n",
    "A sufficient condition for existence of a nonnegative solution is that all the column sums, or all the row sums, of $\\widetilde{P}$ are less than one, which holds when $G_S + G_d \\ll 0$. This condition describes a sense in which discounting counteracts growth in dividends.\n",
    "\n",
    "Given a solution $v$, the price-dividend ratio is a stationary process that is a fixed function of the Markov state:\n",
    "\n",
    "$$\n",
    "\\frac{p_t}{d_t} = v(x) \\text{ when $X_t = x$}.\n",
    "$$\n",
    "\n",
    "Meanwhile, both the asset price process and the dividend process are multiplicative functionals that experience either multiplicative growth or decay."
   ]
  },
  {
   "cell_type": "markdown",
   "metadata": {},
   "source": [
    "### Implementation\n",
    "\n",
    "The `AssetPricingMultFiniteMarkov` class\n",
    "implements the asset pricing model with the specification of the stochastic discount factor process described above.\n",
    "\n",
    "\n",
    "Below is an example of how to use the class. \n",
    "\n",
    "Please note that the stochastic discount rate matrix $G_S$ and the payout growth rate matrix $G_d$ are specified independently.\n",
    "\n",
    "In the **Lucas asset pricing model** to be described below, the matrix $G_S$ is a function\n",
    "of the payoff growth rate matrix $G_d$ and another parameter $\\gamma$ that is a coefficient of relative risk aversion in the utility function of a representative consumer,\n",
    "as well as the discount rate $\\delta$."
   ]
  },
  {
   "cell_type": "code",
   "execution_count": 17,
   "metadata": {
    "collapsed": true
   },
   "outputs": [],
   "source": [
    "# Transition probability matrix\n",
    "P = [[0.4, 0.6],\n",
    "     [0.2, 0.8]]\n",
    "\n",
    "# Instance of MarkovChain from quantecon.markov\n",
    "mc = MarkovChain(P)"
   ]
  },
  {
   "cell_type": "code",
   "execution_count": 18,
   "metadata": {
    "collapsed": false
   },
   "outputs": [],
   "source": [
    "# Stochastic discount rate matrix\n",
    "G_S = [[-0.02, -0.03],\n",
    "       [-0.01, -0.04]]\n",
    "\n",
    "# Dividend growth rate matrix\n",
    "G_d = [[0.01, 0.02],\n",
    "       [0.005, 0.02]]\n",
    "\n",
    "# AssetPricingMultFiniteMarkov instance\n",
    "ap = AssetPricingMultFiniteMarkov(mc, G_S, G_d)"
   ]
  },
  {
   "cell_type": "markdown",
   "metadata": {},
   "source": [
    "(1) Display the $\\widetilde M$ matrices for $S_t$ and $d_t$."
   ]
  },
  {
   "cell_type": "code",
   "execution_count": 19,
   "metadata": {
    "collapsed": false
   },
   "outputs": [
    {
     "data": {
      "text/plain": [
       "array([[ 1.01196282,  0.99202479],\n",
       "       [ 1.03230156,  0.99192461]])"
      ]
     },
     "execution_count": 19,
     "metadata": {},
     "output_type": "execute_result"
    }
   ],
   "source": [
    "ap.mf_S.M_tilde_matrix"
   ]
  },
  {
   "cell_type": "code",
   "execution_count": 20,
   "metadata": {
    "collapsed": false
   },
   "outputs": [
    {
     "data": {
      "text/plain": [
       "array([[ 0.99325326,  1.00449783],\n",
       "       [ 0.98705753,  1.00323562]])"
      ]
     },
     "execution_count": 20,
     "metadata": {},
     "output_type": "execute_result"
    }
   ],
   "source": [
    "ap.mf_d.M_tilde_matrix"
   ]
  },
  {
   "cell_type": "markdown",
   "metadata": {},
   "source": [
    "(2) Plot sample paths of $S_t$ and $d_t$."
   ]
  },
  {
   "cell_type": "code",
   "execution_count": 21,
   "metadata": {
    "collapsed": true
   },
   "outputs": [],
   "source": [
    "ts_length = 250\n",
    "res = ap.simulate(ts_length)"
   ]
  },
  {
   "cell_type": "code",
   "execution_count": 22,
   "metadata": {
    "collapsed": false,
    "scrolled": false
   },
   "outputs": [
    {
     "data": {
      "image/png": "[encoded data removed]",
      "text/plain": [
       "<matplotlib.figure.Figure at 0x115b11b38>"
      ]
     },
     "metadata": {},
     "output_type": "display_data"
    }
   ],
   "source": [
    "paths = [res.S, res.d]\n",
    "labels = [r'$S_t$', r'$d_t$']\n",
    "titles = ['Sample path of ' + label for label in labels]\n",
    "loc = 4\n",
    "\n",
    "fig, axes = plt.subplots(2, 1, figsize=(8,10))\n",
    "for ax, path, label, title in zip(axes, paths, labels, titles):\n",
    "    ax.plot(path, label=label)\n",
    "    ax.set_title(title)\n",
    "    ax.legend(loc=loc)\n",
    "plt.show()"
   ]
  },
  {
   "cell_type": "markdown",
   "metadata": {},
   "source": [
    "(2) Print $v$."
   ]
  },
  {
   "cell_type": "code",
   "execution_count": 23,
   "metadata": {
    "collapsed": false
   },
   "outputs": [
    {
     "name": "stdout",
     "output_type": "stream",
     "text": [
      "price-dividend ratio in different Markov states = [ 64.56797079  64.00927039]\n"
     ]
    }
   ],
   "source": [
    "print(\"price-dividend ratio in different Markov states = {0}\".format(ap.v))"
   ]
  },
  {
   "cell_type": "markdown",
   "metadata": {},
   "source": [
    "(3) Plot sample paths of $p_t$ and $d_t$."
   ]
  },
  {
   "cell_type": "code",
   "execution_count": 24,
   "metadata": {
    "collapsed": false
   },
   "outputs": [
    {
     "data": {
      "image/png": "[encoded data removed]",
      "text/plain": [
       "<matplotlib.figure.Figure at 0x115b8cd30>"
      ]
     },
     "metadata": {},
     "output_type": "display_data"
    }
   ],
   "source": [
    "paths = [res.p, res.d]\n",
    "labels = [r'$p_t$', r'$d_t$']\n",
    "titles = ['Sample path of ' + label for label in labels]\n",
    "\n",
    "fig, axes = plt.subplots(2, 1, figsize=(8,10))\n",
    "for ax, path, label, title in zip(axes, paths, labels, titles):\n",
    "    ax.plot(path, label=label)\n",
    "    ax.set_title(title)\n",
    "    ax.legend(loc=loc)\n",
    "plt.show()"
   ]
  },
  {
   "cell_type": "markdown",
   "metadata": {},
   "source": [
    "(5) Experiment with a different $G_S$ matrix."
   ]
  },
  {
   "cell_type": "code",
   "execution_count": 25,
   "metadata": {
    "collapsed": false
   },
   "outputs": [],
   "source": [
    "# Change G_s[0, 1] from -0.03 to -1\n",
    "G_S_2 = [[-0.02, -1],\n",
    "         [-0.01, -0.04]]\n",
    "\n",
    "ap_2 = AssetPricingMultFiniteMarkov(mc, G_S_2, G_d)"
   ]
  },
  {
   "cell_type": "code",
   "execution_count": 26,
   "metadata": {
    "collapsed": false
   },
   "outputs": [
    {
     "data": {
      "text/plain": [
       "array([ 4.09046945,  8.24984429])"
      ]
     },
     "execution_count": 26,
     "metadata": {},
     "output_type": "execute_result"
    }
   ],
   "source": [
    "ap_2.v"
   ]
  },
  {
   "cell_type": "code",
   "execution_count": 27,
   "metadata": {
    "collapsed": true
   },
   "outputs": [],
   "source": [
    "res_2 = ap_2.simulate(ts_length)"
   ]
  },
  {
   "cell_type": "code",
   "execution_count": 28,
   "metadata": {
    "collapsed": false
   },
   "outputs": [
    {
     "data": {
      "image/png": "[encoded data removed]",
      "text/plain": [
       "<matplotlib.figure.Figure at 0x115dbcf28>"
      ]
     },
     "metadata": {},
     "output_type": "display_data"
    }
   ],
   "source": [
    "paths = [res_2.p, res_2.d]\n",
    "labels = [r'$p_t$', r'$d_t$']\n",
    "titles = ['Sample path of ' + label for label in labels]\n",
    "\n",
    "fig, axes = plt.subplots(2, 1, figsize=(8,10))\n",
    "for ax, path, label, title in zip(axes, paths, labels, titles):\n",
    "    ax.plot(path, label=label)\n",
    "    ax.set_title(title)\n",
    "    ax.legend(loc=loc)\n",
    "plt.show()"
   ]
  },
  {
   "cell_type": "markdown",
   "metadata": {},
   "source": [
    "## Lucas asset pricing model with growth\n",
    "\n",
    "As an example of our model of a **stochastic discount factor** and **payout process**, we'll adapt a version of the famous Lucas (1978) asset pricing model to have an exponentially growing aggregate consumption endowment.\n",
    "We'll use CRRA utility\n",
    "$u(c) = c^{1-\\gamma}/(1-\\gamma)$,\n",
    "a common specification in applications of the Lucas model.\n",
    "\n",
    "So now we let $d_t = C_t$, aggregate consumption, and we let \n",
    "\n",
    "$$\\frac{S_{t+1}}{S_t} = \\exp(-\\delta) \\left(\\frac{C_{t+1}}{C_t} \\right)^{-\\gamma} ,$$\n",
    "\n",
    "where $\\delta > 0$ is a rate of time preference and $\\gamma > 0$ is a coefficient of relative risk aversion. \n",
    "\n",
    "To obtain this special case of our model, we set\n",
    "\n",
    "$$ {\\sf S}_{ij} = \\exp(-\\delta) {\\sf D}_{ij}^{-\\gamma} ,$$\n",
    "\n",
    "where we now interpret  ${\\sf D}_{ij} $ as the multiplicative  rate of growth of the level of aggregate consumption between $t$ and $t+1$ when $X_t = s_i$ and $X_{t+1} = s_j$.  "
   ]
  },
  {
   "cell_type": "markdown",
   "metadata": {},
   "source": [
    "### Term structure of interest rates\n",
    " \n",
    "When the Markov state $X_t = s_i$ at time  $t$, the price   of a risk-free   zero-coupon bond paying one unit of consumption at time $t+j$\n",
    "is\n",
    "\n",
    "$$ p_{j,t} = E \\left[ \\frac{S_{t+j}}{S_t} \\Bigm| X_t = s_i  \\right] .$$\n",
    "\n",
    "Let $\\widehat{P}_{ij} = P_{ij} {\\sf S}_{ij}$ and apply the above **forecasting formula** to deduce\n",
    "\n",
    "$$\n",
    " p_{j,t} =    \\left( \\sum_k \\widehat P^{(j)}_{i,k} \\right) ,\n",
    "$$\n",
    "\n",
    "where $\\widehat P^{(j)}$ is the $j$th power of the matrix $\\widehat P$.\n",
    "\n",
    "The **yield** $R_{jt}$ on a $j$ period risk-free bond satisfies\n",
    "\n",
    "$$ p_{jt} = \\exp(-j R_{jt}) $$\n",
    "\n",
    "or\n",
    "\n",
    "$$ R_{jt} = -\\frac{\\log(p_{jt})}{j} $$\n",
    "\n",
    "For a given $t$, \n",
    "\n",
    "$$ \\begin{bmatrix} R_{1t} & R_{2t} & \\cdots & R_{Jt} \\end{bmatrix} $$\n",
    "\n",
    "is the **term structure of interest rates** on risk-free zero-coupon bonds."
   ]
  },
  {
   "cell_type": "markdown",
   "metadata": {},
   "source": [
    "### Simulating the Lucas asset pricing model"
   ]
  },
  {
   "cell_type": "markdown",
   "metadata": {},
   "source": [
    "Write $y$ for the process of quarterly per capita consumption growth with mean $\\mu_C$.\n",
    "In the following example,\n",
    "we assume that $y - \\mu_C$ follows a discretized version of an AR(1) process\n",
    "(while independent of the Markov state),\n",
    "where the discrete approximation is derived by the routine\n",
    "[`tauchen`](http://quant-econ.net/py/finite_markov.html#exercise-3)\n",
    "from `quantecon.markov`."
   ]
  },
  {
   "cell_type": "code",
   "execution_count": 29,
   "metadata": {
    "collapsed": false
   },
   "outputs": [],
   "source": [
    "mu_C = .005  # mean of quarterly per capita consumption growth\n",
    "sigma_C = .005  # standard deviation of quarterly per capita consumption growth\n",
    "rho = .25  # persistence of per capita quarterly consumption growth\n",
    "\n",
    "# standard deviation of the underlying noise distribution\n",
    "sigma = sigma_C * np.sqrt(1 - rho**2)\n",
    "\n",
    "m = 2  # number of standard deviations you would like the gridded vector y to cover\n",
    "n = 5  # number of points in the discretization\n",
    "\n",
    "y, P = tauchen(rho, sigma, m, n)\n",
    "mc = MarkovChain(P)\n",
    "\n",
    "y += mu_C  # consumption growth vector\n",
    "\n",
    "# Consumption growth matrix\n",
    "G_C = np.empty((n, n))\n",
    "G_C[:] = y\n",
    "\n",
    "# Discount rate\n",
    "delta = .01\n",
    "\n",
    "# Coefficient of relative risk aversion\n",
    "gamma = 20"
   ]
  },
  {
   "cell_type": "markdown",
   "metadata": {},
   "source": [
    "Create a `LucasTreeFiniteMarkov` instance:"
   ]
  },
  {
   "cell_type": "code",
   "execution_count": 30,
   "metadata": {
    "collapsed": false
   },
   "outputs": [],
   "source": [
    "lt = LucasTreeFiniteMarkov(mc, G_C, gamma, delta)"
   ]
  },
  {
   "cell_type": "code",
   "execution_count": 31,
   "metadata": {
    "collapsed": false
   },
   "outputs": [
    {
     "data": {
      "text/plain": [
       "array([-0.005,  0.   ,  0.005,  0.01 ,  0.015])"
      ]
     },
     "execution_count": 31,
     "metadata": {},
     "output_type": "execute_result"
    }
   ],
   "source": [
    "# Consumption growth rates\n",
    "lt.G_C[0]"
   ]
  },
  {
   "cell_type": "code",
   "execution_count": 32,
   "metadata": {
    "collapsed": false
   },
   "outputs": [
    {
     "data": {
      "text/plain": [
       "array([ 0.09, -0.01, -0.11, -0.21, -0.31])"
      ]
     },
     "execution_count": 32,
     "metadata": {},
     "output_type": "execute_result"
    }
   ],
   "source": [
    "# Stochastic discount rates\n",
    "lt.G_S[0]"
   ]
  },
  {
   "cell_type": "markdown",
   "metadata": {},
   "source": [
    "Simulate the model:"
   ]
  },
  {
   "cell_type": "code",
   "execution_count": 33,
   "metadata": {
    "collapsed": false
   },
   "outputs": [],
   "source": [
    "ts_length = 250\n",
    "res = lt.simulate(ts_length)"
   ]
  },
  {
   "cell_type": "code",
   "execution_count": 34,
   "metadata": {
    "collapsed": false
   },
   "outputs": [
    {
     "data": {
      "image/png": "[encoded data removed]",
      "text/plain": [
       "<matplotlib.figure.Figure at 0x115fc6898>"
      ]
     },
     "metadata": {},
     "output_type": "display_data"
    }
   ],
   "source": [
    "paths = [res.S, res.d]\n",
    "labels = [r'$S_t$', r'$C_t$']\n",
    "titles = ['Sample path of ' + label for label in labels]\n",
    "\n",
    "fig, axes = plt.subplots(2, 1, figsize=(8,10))\n",
    "for ax, path, label, title in zip(axes, paths, labels, titles):\n",
    "    ax.plot(path, label=label)\n",
    "    ax.set_title(title)\n",
    "    ax.legend(loc=loc)\n",
    "plt.show()"
   ]
  },
  {
   "cell_type": "code",
   "execution_count": 35,
   "metadata": {
    "collapsed": false
   },
   "outputs": [
    {
     "name": "stdout",
     "output_type": "stream",
     "text": [
      "price-dividend ratio in different states = \n"
     ]
    },
    {
     "data": {
      "text/plain": [
       "array([ 10.26478246,   9.97239545,   9.68315692,   9.40092066,   9.1290175 ])"
      ]
     },
     "execution_count": 35,
     "metadata": {},
     "output_type": "execute_result"
    }
   ],
   "source": [
    "print(\"price-dividend ratio in different states = \")\n",
    "lt.v"
   ]
  },
  {
   "cell_type": "code",
   "execution_count": 36,
   "metadata": {
    "collapsed": false
   },
   "outputs": [
    {
     "data": {
      "image/png": "[encoded data removed]",
      "text/plain": [
       "<matplotlib.figure.Figure at 0x115f88128>"
      ]
     },
     "metadata": {},
     "output_type": "display_data"
    }
   ],
   "source": [
    "paths = [res.p, res.d]\n",
    "labels = [r'$p_t$', r'$C_t$']\n",
    "titles = ['Sample path of ' + label for label in labels]\n",
    "\n",
    "fig, axes = plt.subplots(2, 1, figsize=(8,10))\n",
    "for ax, path, label, title in zip(axes, paths, labels, titles):\n",
    "    ax.plot(path, label=label)\n",
    "    ax.set_title(title)\n",
    "    ax.legend(loc=loc)\n",
    "plt.show()"
   ]
  },
  {
   "cell_type": "markdown",
   "metadata": {
    "collapsed": true
   },
   "source": [
    "### Plotting the term structure of interest rates"
   ]
  },
  {
   "cell_type": "code",
   "execution_count": 37,
   "metadata": {
    "collapsed": true
   },
   "outputs": [],
   "source": [
    "G_S = lt.G_S"
   ]
  },
  {
   "cell_type": "code",
   "execution_count": 38,
   "metadata": {
    "collapsed": false
   },
   "outputs": [],
   "source": [
    "# SDF process as a MultiplicativeFunctional\n",
    "mf = MultFunctionalFiniteMarkov(mc, G_S)"
   ]
  },
  {
   "cell_type": "code",
   "execution_count": 39,
   "metadata": {
    "collapsed": false
   },
   "outputs": [],
   "source": [
    "P_hat = mf.P_tilde"
   ]
  },
  {
   "cell_type": "code",
   "execution_count": 40,
   "metadata": {
    "collapsed": false
   },
   "outputs": [],
   "source": [
    "J = 20\n",
    "\n",
    "# Sequence of price vectors\n",
    "p = np.empty((J, n))\n",
    "p[0] = P_hat.dot(np.ones(n))\n",
    "for j in range(J-1):\n",
    "    p[j+1] = P_hat.dot(p[j])\n",
    "\n",
    "# Term structure\n",
    "R = -np.log(p)\n",
    "R /= np.arange(1, J+1)[:, np.newaxis]"
   ]
  },
  {
   "cell_type": "code",
   "execution_count": 41,
   "metadata": {
    "collapsed": false,
    "scrolled": true
   },
   "outputs": [
    {
     "data": {
      "text/plain": [
       "array([[ 0.05732179,  0.08103259,  0.10515373,  0.12937031,  0.15337385],\n",
       "       [ 0.07424111,  0.08891904,  0.1038699 ,  0.11889703,  0.13380842],\n",
       "       [ 0.08254966,  0.09278489,  0.10321402,  0.11369969,  0.12410787],\n",
       "       [ 0.08718206,  0.09493934,  0.10284426,  0.11079268,  0.11868298],\n",
       "       [ 0.09005315,  0.09627448,  0.10261435,  0.10898924,  0.11531763],\n",
       "       [ 0.09198551,  0.09717306,  0.10245947,  0.1077751 ,  0.11305199],\n",
       "       [ 0.09336954,  0.09781664,  0.10234851,  0.10690543,  0.11142914],\n",
       "       [ 0.09440835,  0.09829969,  0.10226521,  0.10625266,  0.11021105],\n",
       "       [ 0.09521648,  0.09867548,  0.10220042,  0.10574484,  0.10926344],\n",
       "       [ 0.09586302,  0.09897613,  0.10214858,  0.10533857,  0.10850531],\n",
       "       [ 0.09639201,  0.09922212,  0.10210616,  0.10500615,  0.10788501],\n",
       "       [ 0.09683284,  0.09942711,  0.10207081,  0.10472914,  0.1073681 ],\n",
       "       [ 0.09720586,  0.09960056,  0.10204091,  0.10449474,  0.1069307 ],\n",
       "       [ 0.09752558,  0.09974923,  0.10201527,  0.10429383,  0.1065558 ],\n",
       "       [ 0.09780268,  0.09987808,  0.10199305,  0.10411971,  0.10623088],\n",
       "       [ 0.09804513,  0.09999083,  0.10197361,  0.10396735,  0.10594657],\n",
       "       [ 0.09825907,  0.10009031,  0.10195646,  0.10383292,  0.10569571],\n",
       "       [ 0.09844923,  0.10017874,  0.10194121,  0.10371343,  0.10547273],\n",
       "       [ 0.09861937,  0.10025786,  0.10192757,  0.10360651,  0.10527322],\n",
       "       [ 0.09877251,  0.10032906,  0.10191529,  0.10351028,  0.10509366]])"
      ]
     },
     "execution_count": 41,
     "metadata": {},
     "output_type": "execute_result"
    }
   ],
   "source": [
    "R"
   ]
  },
  {
   "cell_type": "markdown",
   "metadata": {},
   "source": [
    "The term structure of interest rates `R` is a sequence (of length `J`)\n",
    "of vectors (of length `n` each).\n",
    "Instead of plotting the whole `R`,\n",
    "we plot the sequences for the \"low\", \"middle\", and \"high\" states.\n",
    "\n",
    "Here we define those states as follows.\n",
    "The vector $(p_{jt}|X_t = i)_{i=0}^{n-1}$, if appropriately rescaled,\n",
    "converges as $j \\to \\infty$\n",
    "to an eigenvector of $\\widehat P$ that corresponds to the dominant eigenvalue,\n",
    "which equals `mf.e` times some constant.\n",
    "Thus call the states that correspond to the smallest, largest, and middle values of `mf.e`\n",
    "the high, low, and middle states."
   ]
  },
  {
   "cell_type": "code",
   "execution_count": 42,
   "metadata": {
    "collapsed": false
   },
   "outputs": [
    {
     "data": {
      "text/plain": [
       "array([ 0.47535815,  0.46078769,  0.44639887,  0.43238352,  0.41890556])"
      ]
     },
     "execution_count": 42,
     "metadata": {},
     "output_type": "execute_result"
    }
   ],
   "source": [
    "mf.e"
   ]
  },
  {
   "cell_type": "code",
   "execution_count": 43,
   "metadata": {
    "collapsed": true
   },
   "outputs": [],
   "source": [
    "hi = np.argsort(mf.e)[0]\n",
    "lo = np.argsort(mf.e)[-1]\n",
    "mid = np.argsort(mf.e)[mf.n//2]"
   ]
  },
  {
   "cell_type": "code",
   "execution_count": 44,
   "metadata": {
    "collapsed": false
   },
   "outputs": [
    {
     "data": {
      "image/png": "[encoded data removed]",
      "text/plain": [
       "<matplotlib.figure.Figure at 0x115df89e8>"
      ]
     },
     "metadata": {},
     "output_type": "display_data"
    }
   ],
   "source": [
    "states = [hi, mid, lo]\n",
    "labels = [s + ' state' for s in ['high', 'middle', 'low']]\n",
    "\n",
    "fig, ax = plt.subplots(figsize=(8,5))\n",
    "for i, label in zip(states, labels):\n",
    "    ax.plot(np.arange(1, J+1), R[:, i], label=label)\n",
    "ax.set_xlim((1, J))\n",
    "ax.legend()\n",
    "plt.show()"
   ]
  },
  {
   "cell_type": "markdown",
   "metadata": {
    "collapsed": true
   },
   "source": [
    "### Another class of examples\n",
    "\n",
    "Let the elements of ${\\sf D}$ (i.e., the multiplicative growth rates of the dividend or consumption process) be, for example, \n",
    "$$ {\\sf D} = \\begin{bmatrix} .95 & .975 &  1 \\cr\n",
    "      .975 &  1 & 1.025 \\cr\n",
    "       1 & 1.025 & 1.05 \\end{bmatrix}.$$\n",
    "\n",
    "Here the realized growth rate depends on both $X_t$ and $X_{t+1}$ -- i.e., the value of the state last period (i) and this period (j).  \n",
    "\n",
    "Here we  have imposed symmetry to save parameters, but of course there is no reason to do that. \n",
    "\n",
    "\n",
    "We can combine this specification with various specifications of $P$ matrices e.g., an \"i.i.d.\" state evolution process would be represented with  $P$ in which all rows are identical.  Even that simple specification\n",
    "can some interesting outcomes with the above ${\\sf D}$.  \n",
    "\n"
   ]
  },
  {
   "cell_type": "markdown",
   "metadata": {},
   "source": [
    "We'll try this little  $3 \\times 3$ example with a **Lucas model** below.\n",
    "\n",
    "But first a word of caution.  \n",
    "\n",
    "We have to choose values for the consumption growth rate matrix $G_C$ and\n",
    "the transition matrix $P$ so that pertinent  eigenvalues are smaller than one in modulus.\n",
    "\n",
    "This check is implemented in the code."
   ]
  },
  {
   "cell_type": "code",
   "execution_count": 45,
   "metadata": {
    "collapsed": false
   },
   "outputs": [],
   "source": [
    "# Growth rate matrix\n",
    "G_C = np.log([[.95  , .975, 1],\n",
    "              [.975, 1 , 1.025],\n",
    "              [1, 1.025, 1.05]])\n",
    "\n",
    "# MarkovChain instance\n",
    "P = [[0.1, 0.6, 0.3],\n",
    "     [0.1, 0.5, 0.4],\n",
    "     [0.1, 0.6, 0.3]]\n",
    "mc = MarkovChain(P)"
   ]
  },
  {
   "cell_type": "code",
   "execution_count": 46,
   "metadata": {
    "collapsed": true
   },
   "outputs": [],
   "source": [
    "# Discount rate\n",
    "delta = .01\n",
    "\n",
    "# Coefficient of relative risk aversion\n",
    "gamma = 20"
   ]
  },
  {
   "cell_type": "code",
   "execution_count": 47,
   "metadata": {
    "collapsed": false
   },
   "outputs": [],
   "source": [
    "lt = LucasTreeFiniteMarkov(mc, G_C, gamma, delta)"
   ]
  },
  {
   "cell_type": "code",
   "execution_count": 48,
   "metadata": {
    "collapsed": false
   },
   "outputs": [
    {
     "data": {
      "text/plain": [
       "array([ 23.76708912,  13.79996014,   9.12713926])"
      ]
     },
     "execution_count": 48,
     "metadata": {},
     "output_type": "execute_result"
    }
   ],
   "source": [
    "# Price-dividend ratios\n",
    "lt.v"
   ]
  },
  {
   "cell_type": "code",
   "execution_count": 49,
   "metadata": {
    "collapsed": true
   },
   "outputs": [],
   "source": [
    "ts_length = 250\n",
    "res = lt.simulate(ts_length)"
   ]
  },
  {
   "cell_type": "code",
   "execution_count": 50,
   "metadata": {
    "collapsed": false
   },
   "outputs": [
    {
     "data": {
      "image/png": "[encoded data removed]",
      "text/plain": [
       "<matplotlib.figure.Figure at 0x1158f5828>"
      ]
     },
     "metadata": {},
     "output_type": "display_data"
    }
   ],
   "source": [
    "paths = [res.S, res.d]\n",
    "labels = [r'$S_t$', r'$C_t$']\n",
    "titles = ['Sample path of ' + label for label in labels]\n",
    "\n",
    "fig, axes = plt.subplots(2, 1, figsize=(8,10))\n",
    "for ax, path, label, title in zip(axes, paths, labels, titles):\n",
    "    ax.plot(path, label=label)\n",
    "    ax.set_title(title)\n",
    "    ax.legend(loc=loc)\n",
    "plt.show()"
   ]
  },
  {
   "cell_type": "code",
   "execution_count": 51,
   "metadata": {
    "collapsed": false,
    "scrolled": false
   },
   "outputs": [
    {
     "data": {
      "image/png": "[encoded data removed]",
      "text/plain": [
       "<matplotlib.figure.Figure at 0x115fc6320>"
      ]
     },
     "metadata": {},
     "output_type": "display_data"
    }
   ],
   "source": [
    "paths = [res.p, res.d]\n",
    "labels = [r'$p_t$', r'$C_t$']\n",
    "titles = ['Sample path of ' + label for label in labels]\n",
    "\n",
    "fig, axes = plt.subplots(2, 1, figsize=(8,10))\n",
    "for ax, path, label, title in zip(axes, paths, labels, titles):\n",
    "    ax.plot(path, label=label)\n",
    "    ax.set_title(title)\n",
    "    ax.legend(loc=loc)\n",
    "plt.show()"
   ]
  },
  {
   "cell_type": "markdown",
   "metadata": {},
   "source": [
    "### Simulated marginal distributions of $\\widetilde M_t$ revisited\n",
    "\n",
    "Consider again the **multiplicative martingale** that associated with the $5$ state Lucas model  studied earlier.\n",
    "\n",
    "Remember that by construction, this is a **likelihood ratio process**.\n",
    "\n",
    "Here we'll simulate a number of paths and build up histograms of $\\tilde M_t$ at various values of $t$.\n",
    "\n",
    "These histograms should help us understand what is going on to generate the **peculiar property** mentioned above.\n",
    "\n",
    "As $t \\rightarrow +\\infty$, notice that\n",
    "\n",
    "  * More and more probability mass piles up near zero, $\\ldots$ but\n",
    "  \n",
    "  * A longer and longer  thin right tail emerges. "
   ]
  },
  {
   "cell_type": "code",
   "execution_count": 52,
   "metadata": {
    "collapsed": false
   },
   "outputs": [
    {
     "data": {
      "text/plain": [
       "array([[ 0.15084979,  0.34915021,  0.34915021,  0.13141624,  0.01943355],\n",
       "       [ 0.0983528 ,  0.29977391,  0.38258428,  0.18393844,  0.03535057],\n",
       "       [ 0.06066763,  0.24212068,  0.39442338,  0.24212068,  0.06066763],\n",
       "       [ 0.03535057,  0.18393844,  0.38258428,  0.29977391,  0.0983528 ],\n",
       "       [ 0.01943355,  0.13141624,  0.34915021,  0.34915021,  0.15084979]])"
      ]
     },
     "execution_count": 52,
     "metadata": {},
     "output_type": "execute_result"
    }
   ],
   "source": [
    "mf.P"
   ]
  },
  {
   "cell_type": "code",
   "execution_count": 53,
   "metadata": {
    "collapsed": true
   },
   "outputs": [],
   "source": [
    "T = 200\n",
    "num_reps = 10**5\n",
    "res = mf.simulate(T+1, num_reps=num_reps)"
   ]
  },
  {
   "cell_type": "code",
   "execution_count": 54,
   "metadata": {
    "collapsed": false
   },
   "outputs": [
    {
     "data": {
      "image/png": "[encoded data removed]",
      "text/plain": [
       "<matplotlib.figure.Figure at 0x115e12e48>"
      ]
     },
     "metadata": {},
     "output_type": "display_data"
    }
   ],
   "source": [
    "bins = np.linspace(0, 5, num=21)\n",
    "bins_mid = (bins[:-1] + bins[1:]) / 2\n",
    "\n",
    "nums_row_col = (3, 2)\n",
    "xlim = (bins[0], bins[-1])\n",
    "ylim = (0, 0.6)\n",
    "width = (bins[0] + bins[-1]) / (len(bins)-1)\n",
    "\n",
    "ts = [5, 10, 20, 50, 100, 200]\n",
    "fig, axes = plt.subplots(*nums_row_col, figsize=(12,10))\n",
    "for i, ax_idx in enumerate(itertools.product(*(range(n) for n in nums_row_col))):\n",
    "    mean = res.M_tilde[:, ts[i]].mean()\n",
    "    hist, _ = np.histogram(res.M_tilde[:, ts[i]], bins=bins)\n",
    "    axes[ax_idx].bar(bins_mid, hist/num_reps, width, align='center')\n",
    "    axes[ax_idx].vlines(mean, ax.get_ylim()[0], ax.get_ylim()[1], \"k\", \":\")\n",
    "    axes[ax_idx].set_xlim(*xlim)\n",
    "    axes[ax_idx].set_ylim(*ylim)\n",
    "    axes[ax_idx].set_title(r'$t = {}$'.format(ts[i]))\n",
    "plt.show()"
   ]
  },
  {
   "cell_type": "markdown",
   "metadata": {
    "collapsed": true
   },
   "source": [
    "## References\n",
    "\n",
    "* Lars Peter Hansen and Thomas J. Sargent (2017), *Risk, Uncertainty, and Value*,  Princeton University Press, forthcoming.\n",
    "  \n",
    "* Lars Peter Hansen and Jose A. Scheinkman (2009), \n",
    "  \"Long-Term Risk: An Operator Approach,\" Econometrica, 77(1), 177-234.\n",
    "\n",
    "* Robert E. Lucas, Jr. (1978),\n",
    "  \"Asset Prices in an Exchange Economy,\" Econometrica 46, 1429-1445."
   ]
  },
  {
   "cell_type": "code",
   "execution_count": null,
   "metadata": {
    "collapsed": true
   },
   "outputs": [],
   "source": []
  }
 ],
 "metadata": {
  "kernelspec": {
   "display_name": "Python 3",
   "language": "python",
   "name": "python3"
  },
  "language_info": {
   "codemirror_mode": {
    "name": "ipython",
    "version": 3
   },
   "file_extension": ".py",
   "mimetype": "text/x-python",
   "name": "python",
   "nbconvert_exporter": "python",
   "pygments_lexer": "ipython3",
   "version": "3.5.1"
  }
 },
 "nbformat": 4,
 "nbformat_minor": 0
}
